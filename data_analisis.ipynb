{
 "cells": [
  {
   "cell_type": "markdown",
   "metadata": {},
   "source": [
    "Case - Client Cancelations"
   ]
  },
  {
   "cell_type": "code",
   "execution_count": null,
   "metadata": {
    "vscode": {
     "languageId": "plaintext"
    }
   },
   "outputs": [],
   "source": [
    "Import pandas as pd"
   ]
  },
  {
   "cell_type": "markdown",
   "metadata": {},
   "source": [
    "#planejar codigo - passo a passo\n",
    "\n",
    "- step1: Importar a base de dados de clientes\n",
    "\n",
    "- step2: Visualizar a base de dados(formatação, colunas, para ver se nessa base de dados tem as informações necessárias para o projeto; prepara o passo 3)\n",
    "\n",
    "- step3: Fazer a limpeza/correção da base de dados\n",
    "\n",
    "- step4: Analise os cancelamentos\n",
    "\n",
    "- step5: Analise da causa de cancelamento\n",
    "\n",
    "#arquivo.ipynb"
   ]
  }
 ],
 "metadata": {
  "language_info": {
   "name": "python"
  }
 },
 "nbformat": 4,
 "nbformat_minor": 2
}
